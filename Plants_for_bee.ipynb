{
  "nbformat": 4,
  "nbformat_minor": 0,
  "metadata": {
    "colab": {
      "provenance": [],
      "authorship_tag": "ABX9TyO9lWPnUITibnZKNeVoW664",
      "include_colab_link": true
    },
    "kernelspec": {
      "name": "python3",
      "display_name": "Python 3"
    },
    "language_info": {
      "name": "python"
    }
  },
  "cells": [
    {
      "cell_type": "markdown",
      "metadata": {
        "id": "view-in-github",
        "colab_type": "text"
      },
      "source": [
        "<a href=\"https://colab.research.google.com/github/pq2312/Which-plants-are-better-for-bees-native-or-non-native/blob/main/Plants_for_bee.ipynb\" target=\"_parent\"><img src=\"https://colab.research.google.com/assets/colab-badge.svg\" alt=\"Open In Colab\"/></a>"
      ]
    },
    {
      "cell_type": "markdown",
      "source": [
        "**I. EXECUTIVE SUMMARY** \n",
        "\n",
        "Which plants are better for bees: native or non-native?\n",
        "\n",
        "You work for the local government environment agency and have taken on a project about creating pollinator bee-friendly spaces. You can use both native and non-native plants to create these spaces and therefore need to ensure that you use the correct plants to optimize the environment for these bees.\n",
        "\n",
        "The team has collected data on native and non-native plants and their effects on pollinator bees. Your task will be to analyze this data and provide recommendations on which plants create an optimized environment for pollinator bees.\n",
        "\n",
        "Provide your agency with a report that covers the following:\n",
        "* Which plants are preferred by native vs non-native bee species?\n",
        "* A visualization of the distribution of bee and plant species across one of the samples.\n",
        "* Select the top three plant species you would recommend to the agency to support native bees.\n",
        "\n",
        "Data source: [DRYAD](https://datadryad.org/stash/dataset/doi%253A10.5061%252Fdryad.pzgmsbcj8) and [Datacamp](https://app.datacamp.com/workspace/w/6ce8f6c1-ec79-4c8f-b6bb-38e29b381386/edit)"
      ],
      "metadata": {
        "id": "TkcxOUFMPB5c"
      }
    },
    {
      "cell_type": "markdown",
      "source": [
        "**II. ANALYSIS**"
      ],
      "metadata": {
        "id": "MCpKYtnsPLC-"
      }
    },
    {
      "cell_type": "code",
      "source": [
        "# Importing required modules\n",
        "import pandas as pd\n",
        "import numpy as np\n",
        "import matplotlib.pyplot as plt\n",
        "import seaborn as sns\n",
        "\n",
        "# Settings to produce nice plots in a Jupyter notebook\n",
        "plt.style.use('fivethirtyeight')\n",
        "%matplotlib inline"
      ],
      "metadata": {
        "id": "485S5fTRPMth"
      },
      "execution_count": 1,
      "outputs": []
    },
    {
      "cell_type": "code",
      "source": [
        "from google.colab import drive\n",
        "drive.mount('/content/gdrive')"
      ],
      "metadata": {
        "colab": {
          "base_uri": "https://localhost:8080/"
        },
        "id": "GTv8keUEQctw",
        "outputId": "6e8108e4-1e51-4423-f4f2-b4aa2403e47f"
      },
      "execution_count": 2,
      "outputs": [
        {
          "output_type": "stream",
          "name": "stdout",
          "text": [
            "Mounted at /content/gdrive\n"
          ]
        }
      ]
    },
    {
      "cell_type": "code",
      "source": [
        "ls /content/gdrive/MyDrive/Python-Practice/Bee"
      ],
      "metadata": {
        "colab": {
          "base_uri": "https://localhost:8080/"
        },
        "id": "VfAXJ966Qoe8",
        "outputId": "8ff069e1-00b0-4e8b-a26f-8f5188f41882"
      },
      "execution_count": 3,
      "outputs": [
        {
          "output_type": "stream",
          "name": "stdout",
          "text": [
            "plants_and_bees.csv\n"
          ]
        }
      ]
    },
    {
      "cell_type": "code",
      "source": [
        "# Reading in the data\n",
        "plants_bee = pd.read_csv('/content/gdrive/MyDrive/Python-Practice/Bee/plants_and_bees.csv')\n"
      ],
      "metadata": {
        "id": "pr0frv2IQzuK"
      },
      "execution_count": 4,
      "outputs": []
    },
    {
      "cell_type": "code",
      "source": [
        "# Display summary for the data\n",
        "plants_bee.head()"
      ],
      "metadata": {
        "colab": {
          "base_uri": "https://localhost:8080/",
          "height": 357
        },
        "id": "npogh4wFRojX",
        "outputId": "d60d2d7f-1d45-4718-83d5-63f7154a0e3c"
      },
      "execution_count": 5,
      "outputs": [
        {
          "output_type": "execute_result",
          "data": {
            "text/plain": [
              "   sample_id  species_num        date        season site native_or_non  \\\n",
              "0      17400           23  04/18/2017  early.season    A        native   \n",
              "1      17400           23  04/18/2017  early.season    A        native   \n",
              "2      17400           23  04/18/2017  early.season    A        native   \n",
              "3      17400           23  04/18/2017  early.season    A        native   \n",
              "4      17400           23  04/18/2017  early.season    A        native   \n",
              "\n",
              "    sampling plant_species  time           bee_species sex specialized_on  \\\n",
              "0  pan traps          None   935  Augochlorella aurata   f            NaN   \n",
              "1  pan traps          None   935   Agapostemon texanus   f            NaN   \n",
              "2  pan traps          None   935  Augochlorella aurata   f            NaN   \n",
              "3  pan traps          None   935       Andrena carlini   f            NaN   \n",
              "4  pan traps          None   935      Andrena perplexa   m            NaN   \n",
              "\n",
              "   parasitic nesting status  nonnative_bee  \n",
              "0        0.0  ground    NaN            0.0  \n",
              "1        0.0  ground    NaN            0.0  \n",
              "2        0.0  ground    NaN            0.0  \n",
              "3        0.0  ground    NaN            0.0  \n",
              "4        0.0  ground    NaN            0.0  "
            ],
            "text/html": [
              "\n",
              "  <div id=\"df-d1907326-a8d1-4031-9c5a-0e85c6d7f009\">\n",
              "    <div class=\"colab-df-container\">\n",
              "      <div>\n",
              "<style scoped>\n",
              "    .dataframe tbody tr th:only-of-type {\n",
              "        vertical-align: middle;\n",
              "    }\n",
              "\n",
              "    .dataframe tbody tr th {\n",
              "        vertical-align: top;\n",
              "    }\n",
              "\n",
              "    .dataframe thead th {\n",
              "        text-align: right;\n",
              "    }\n",
              "</style>\n",
              "<table border=\"1\" class=\"dataframe\">\n",
              "  <thead>\n",
              "    <tr style=\"text-align: right;\">\n",
              "      <th></th>\n",
              "      <th>sample_id</th>\n",
              "      <th>species_num</th>\n",
              "      <th>date</th>\n",
              "      <th>season</th>\n",
              "      <th>site</th>\n",
              "      <th>native_or_non</th>\n",
              "      <th>sampling</th>\n",
              "      <th>plant_species</th>\n",
              "      <th>time</th>\n",
              "      <th>bee_species</th>\n",
              "      <th>sex</th>\n",
              "      <th>specialized_on</th>\n",
              "      <th>parasitic</th>\n",
              "      <th>nesting</th>\n",
              "      <th>status</th>\n",
              "      <th>nonnative_bee</th>\n",
              "    </tr>\n",
              "  </thead>\n",
              "  <tbody>\n",
              "    <tr>\n",
              "      <th>0</th>\n",
              "      <td>17400</td>\n",
              "      <td>23</td>\n",
              "      <td>04/18/2017</td>\n",
              "      <td>early.season</td>\n",
              "      <td>A</td>\n",
              "      <td>native</td>\n",
              "      <td>pan traps</td>\n",
              "      <td>None</td>\n",
              "      <td>935</td>\n",
              "      <td>Augochlorella aurata</td>\n",
              "      <td>f</td>\n",
              "      <td>NaN</td>\n",
              "      <td>0.0</td>\n",
              "      <td>ground</td>\n",
              "      <td>NaN</td>\n",
              "      <td>0.0</td>\n",
              "    </tr>\n",
              "    <tr>\n",
              "      <th>1</th>\n",
              "      <td>17400</td>\n",
              "      <td>23</td>\n",
              "      <td>04/18/2017</td>\n",
              "      <td>early.season</td>\n",
              "      <td>A</td>\n",
              "      <td>native</td>\n",
              "      <td>pan traps</td>\n",
              "      <td>None</td>\n",
              "      <td>935</td>\n",
              "      <td>Agapostemon texanus</td>\n",
              "      <td>f</td>\n",
              "      <td>NaN</td>\n",
              "      <td>0.0</td>\n",
              "      <td>ground</td>\n",
              "      <td>NaN</td>\n",
              "      <td>0.0</td>\n",
              "    </tr>\n",
              "    <tr>\n",
              "      <th>2</th>\n",
              "      <td>17400</td>\n",
              "      <td>23</td>\n",
              "      <td>04/18/2017</td>\n",
              "      <td>early.season</td>\n",
              "      <td>A</td>\n",
              "      <td>native</td>\n",
              "      <td>pan traps</td>\n",
              "      <td>None</td>\n",
              "      <td>935</td>\n",
              "      <td>Augochlorella aurata</td>\n",
              "      <td>f</td>\n",
              "      <td>NaN</td>\n",
              "      <td>0.0</td>\n",
              "      <td>ground</td>\n",
              "      <td>NaN</td>\n",
              "      <td>0.0</td>\n",
              "    </tr>\n",
              "    <tr>\n",
              "      <th>3</th>\n",
              "      <td>17400</td>\n",
              "      <td>23</td>\n",
              "      <td>04/18/2017</td>\n",
              "      <td>early.season</td>\n",
              "      <td>A</td>\n",
              "      <td>native</td>\n",
              "      <td>pan traps</td>\n",
              "      <td>None</td>\n",
              "      <td>935</td>\n",
              "      <td>Andrena carlini</td>\n",
              "      <td>f</td>\n",
              "      <td>NaN</td>\n",
              "      <td>0.0</td>\n",
              "      <td>ground</td>\n",
              "      <td>NaN</td>\n",
              "      <td>0.0</td>\n",
              "    </tr>\n",
              "    <tr>\n",
              "      <th>4</th>\n",
              "      <td>17400</td>\n",
              "      <td>23</td>\n",
              "      <td>04/18/2017</td>\n",
              "      <td>early.season</td>\n",
              "      <td>A</td>\n",
              "      <td>native</td>\n",
              "      <td>pan traps</td>\n",
              "      <td>None</td>\n",
              "      <td>935</td>\n",
              "      <td>Andrena perplexa</td>\n",
              "      <td>m</td>\n",
              "      <td>NaN</td>\n",
              "      <td>0.0</td>\n",
              "      <td>ground</td>\n",
              "      <td>NaN</td>\n",
              "      <td>0.0</td>\n",
              "    </tr>\n",
              "  </tbody>\n",
              "</table>\n",
              "</div>\n",
              "      <button class=\"colab-df-convert\" onclick=\"convertToInteractive('df-d1907326-a8d1-4031-9c5a-0e85c6d7f009')\"\n",
              "              title=\"Convert this dataframe to an interactive table.\"\n",
              "              style=\"display:none;\">\n",
              "        \n",
              "  <svg xmlns=\"http://www.w3.org/2000/svg\" height=\"24px\"viewBox=\"0 0 24 24\"\n",
              "       width=\"24px\">\n",
              "    <path d=\"M0 0h24v24H0V0z\" fill=\"none\"/>\n",
              "    <path d=\"M18.56 5.44l.94 2.06.94-2.06 2.06-.94-2.06-.94-.94-2.06-.94 2.06-2.06.94zm-11 1L8.5 8.5l.94-2.06 2.06-.94-2.06-.94L8.5 2.5l-.94 2.06-2.06.94zm10 10l.94 2.06.94-2.06 2.06-.94-2.06-.94-.94-2.06-.94 2.06-2.06.94z\"/><path d=\"M17.41 7.96l-1.37-1.37c-.4-.4-.92-.59-1.43-.59-.52 0-1.04.2-1.43.59L10.3 9.45l-7.72 7.72c-.78.78-.78 2.05 0 2.83L4 21.41c.39.39.9.59 1.41.59.51 0 1.02-.2 1.41-.59l7.78-7.78 2.81-2.81c.8-.78.8-2.07 0-2.86zM5.41 20L4 18.59l7.72-7.72 1.47 1.35L5.41 20z\"/>\n",
              "  </svg>\n",
              "      </button>\n",
              "      \n",
              "  <style>\n",
              "    .colab-df-container {\n",
              "      display:flex;\n",
              "      flex-wrap:wrap;\n",
              "      gap: 12px;\n",
              "    }\n",
              "\n",
              "    .colab-df-convert {\n",
              "      background-color: #E8F0FE;\n",
              "      border: none;\n",
              "      border-radius: 50%;\n",
              "      cursor: pointer;\n",
              "      display: none;\n",
              "      fill: #1967D2;\n",
              "      height: 32px;\n",
              "      padding: 0 0 0 0;\n",
              "      width: 32px;\n",
              "    }\n",
              "\n",
              "    .colab-df-convert:hover {\n",
              "      background-color: #E2EBFA;\n",
              "      box-shadow: 0px 1px 2px rgba(60, 64, 67, 0.3), 0px 1px 3px 1px rgba(60, 64, 67, 0.15);\n",
              "      fill: #174EA6;\n",
              "    }\n",
              "\n",
              "    [theme=dark] .colab-df-convert {\n",
              "      background-color: #3B4455;\n",
              "      fill: #D2E3FC;\n",
              "    }\n",
              "\n",
              "    [theme=dark] .colab-df-convert:hover {\n",
              "      background-color: #434B5C;\n",
              "      box-shadow: 0px 1px 3px 1px rgba(0, 0, 0, 0.15);\n",
              "      filter: drop-shadow(0px 1px 2px rgba(0, 0, 0, 0.3));\n",
              "      fill: #FFFFFF;\n",
              "    }\n",
              "  </style>\n",
              "\n",
              "      <script>\n",
              "        const buttonEl =\n",
              "          document.querySelector('#df-d1907326-a8d1-4031-9c5a-0e85c6d7f009 button.colab-df-convert');\n",
              "        buttonEl.style.display =\n",
              "          google.colab.kernel.accessAllowed ? 'block' : 'none';\n",
              "\n",
              "        async function convertToInteractive(key) {\n",
              "          const element = document.querySelector('#df-d1907326-a8d1-4031-9c5a-0e85c6d7f009');\n",
              "          const dataTable =\n",
              "            await google.colab.kernel.invokeFunction('convertToInteractive',\n",
              "                                                     [key], {});\n",
              "          if (!dataTable) return;\n",
              "\n",
              "          const docLinkHtml = 'Like what you see? Visit the ' +\n",
              "            '<a target=\"_blank\" href=https://colab.research.google.com/notebooks/data_table.ipynb>data table notebook</a>'\n",
              "            + ' to learn more about interactive tables.';\n",
              "          element.innerHTML = '';\n",
              "          dataTable['output_type'] = 'display_data';\n",
              "          await google.colab.output.renderOutput(dataTable, element);\n",
              "          const docLink = document.createElement('div');\n",
              "          docLink.innerHTML = docLinkHtml;\n",
              "          element.appendChild(docLink);\n",
              "        }\n",
              "      </script>\n",
              "    </div>\n",
              "  </div>\n",
              "  "
            ]
          },
          "metadata": {},
          "execution_count": 5
        }
      ]
    },
    {
      "cell_type": "code",
      "source": [
        "plants_bee.info()"
      ],
      "metadata": {
        "colab": {
          "base_uri": "https://localhost:8080/"
        },
        "id": "oTajGtHjQcUy",
        "outputId": "83ea13fe-5eda-4dc2-8174-1ac262f88de2"
      },
      "execution_count": 6,
      "outputs": [
        {
          "output_type": "stream",
          "name": "stdout",
          "text": [
            "<class 'pandas.core.frame.DataFrame'>\n",
            "RangeIndex: 1250 entries, 0 to 1249\n",
            "Data columns (total 16 columns):\n",
            " #   Column          Non-Null Count  Dtype  \n",
            "---  ------          --------------  -----  \n",
            " 0   sample_id       1250 non-null   int64  \n",
            " 1   species_num     1250 non-null   int64  \n",
            " 2   date            1250 non-null   object \n",
            " 3   season          1250 non-null   object \n",
            " 4   site            1250 non-null   object \n",
            " 5   native_or_non   1250 non-null   object \n",
            " 6   sampling        1250 non-null   object \n",
            " 7   plant_species   1250 non-null   object \n",
            " 8   time            1250 non-null   int64  \n",
            " 9   bee_species     1250 non-null   object \n",
            " 10  sex             1250 non-null   object \n",
            " 11  specialized_on  7 non-null      object \n",
            " 12  parasitic       1187 non-null   float64\n",
            " 13  nesting         1196 non-null   object \n",
            " 14  status          15 non-null     object \n",
            " 15  nonnative_bee   1189 non-null   float64\n",
            "dtypes: float64(2), int64(3), object(11)\n",
            "memory usage: 156.4+ KB\n"
          ]
        }
      ]
    },
    {
      "cell_type": "markdown",
      "source": [
        "**1. Which plants are preferred by native vs non-native bee species**"
      ],
      "metadata": {
        "id": "ivIezCtjSFAt"
      }
    },
    {
      "cell_type": "code",
      "source": [
        "# group data by bee and plant types\n",
        "bee_group = plants_bee.groupby(['nonnative_bee','native_or_non']).size().reset_index(name = 'count')\n",
        "print(bee_group)"
      ],
      "metadata": {
        "id": "AWKt49WKTVz4",
        "colab": {
          "base_uri": "https://localhost:8080/"
        },
        "outputId": "d2a5162b-2bee-432a-f82d-b87921c0c805"
      },
      "execution_count": 10,
      "outputs": [
        {
          "output_type": "stream",
          "name": "stdout",
          "text": [
            "   nonnative_bee native_or_non  count\n",
            "0            0.0        native    561\n",
            "1            0.0    non-native    593\n",
            "2            1.0        native     19\n",
            "3            1.0    non-native     16\n"
          ]
        }
      ]
    },
    {
      "cell_type": "code",
      "source": [
        "# visualisation the summary\n",
        "a = sns.catplot(col = 'nonnative_bee', kind ='count', x = 'native_or_non',data = plants_bee);\n",
        "a.set(xlabel = \"Type of plant\", ylabel = \"Count of plant\");\n",
        "a.set_titles(\"Nonnative bee\", \"Native bee\");"
      ],
      "metadata": {
        "colab": {
          "base_uri": "https://localhost:8080/",
          "height": 494
        },
        "id": "NZbH0YYz9Oc-",
        "outputId": "a247a343-aa62-4e9f-d278-0ff251ad5c66"
      },
      "execution_count": 11,
      "outputs": [
        {
          "output_type": "display_data",
          "data": {
            "text/plain": [
              "<Figure size 1000x500 with 2 Axes>"
            ],
            "image/png": "[encoded data removed]"
          },
          "metadata": {}
        }
      ]
    },
    {
      "cell_type": "markdown",
      "source": [
        "Non-native bee prefers non-native plants. Native bee prefers native plants."
      ],
      "metadata": {
        "id": "ZiddauWU-tqG"
      }
    },
    {
      "cell_type": "markdown",
      "source": [
        "**2. A visualization of the distribution of bee and plant species across one of the samples**"
      ],
      "metadata": {
        "id": "d6CWazTwRV3H"
      }
    },
    {
      "cell_type": "code",
      "source": [
        "import random\n",
        "list = plants_bee['sample_id']\n",
        "random.choice(list)"
      ],
      "metadata": {
        "colab": {
          "base_uri": "https://localhost:8080/"
        },
        "id": "g75-DxvjhVfL",
        "outputId": "8f55bee9-13c0-4210-bf6e-e57058e5f449"
      },
      "execution_count": 29,
      "outputs": [
        {
          "output_type": "execute_result",
          "data": {
            "text/plain": [
              "17443"
            ]
          },
          "metadata": {},
          "execution_count": 29
        }
      ]
    },
    {
      "cell_type": "code",
      "source": [
        "sample = plants_bee[plants_bee['sample_id'] == random.choice(list)]"
      ],
      "metadata": {
        "id": "rpIsHb8ng0W3"
      },
      "execution_count": 30,
      "outputs": []
    },
    {
      "cell_type": "code",
      "source": [
        "sns.histplot(sample['plant_species'], bins = 10, kde = True, color='r');"
      ],
      "metadata": {
        "colab": {
          "base_uri": "https://localhost:8080/",
          "height": 478
        },
        "id": "vWropFVMgfNy",
        "outputId": "129ea3ed-e0d1-4502-8960-09ced11a4860"
      },
      "execution_count": 35,
      "outputs": [
        {
          "output_type": "display_data",
          "data": {
            "text/plain": [
              "<Figure size 640x480 with 1 Axes>"
            ],
            "image/png": "[encoded data removed]"
          },
          "metadata": {}
        }
      ]
    },
    {
      "cell_type": "code",
      "source": [
        "sns.histplot(sample['nonnative_bee'],bins = 10, color='r');"
      ],
      "metadata": {
        "colab": {
          "base_uri": "https://localhost:8080/",
          "height": 478
        },
        "id": "u5fJy_3mljCu",
        "outputId": "e64d7a6d-808d-4801-f731-ab8efb0fcc53"
      },
      "execution_count": 34,
      "outputs": [
        {
          "output_type": "display_data",
          "data": {
            "text/plain": [
              "<Figure size 640x480 with 1 Axes>"
            ],
            "image/png": "[encoded data removed]"
          },
          "metadata": {}
        }
      ]
    },
    {
      "cell_type": "markdown",
      "source": [
        "**3. Select the top three plant species you would recommend to the agency to support native bees**\n",
        "\n",
        "\n"
      ],
      "metadata": {
        "id": "fh-YjXVagmP0"
      }
    },
    {
      "cell_type": "code",
      "source": [
        "# extract data of native bee\n",
        "native_bee = plants_bee[plants_bee['nonnative_bee'] == 1]\n",
        "native_bee.head()"
      ],
      "metadata": {
        "colab": {
          "base_uri": "https://localhost:8080/",
          "height": 270
        },
        "id": "pZ5_RSZFguGs",
        "outputId": "08e1d556-370b-477f-d2dd-acac6db480a7"
      },
      "execution_count": 12,
      "outputs": [
        {
          "output_type": "execute_result",
          "data": {
            "text/plain": [
              "   sample_id  species_num        date        season site native_or_non  \\\n",
              "5      17400           23  04/18/2017  early.season    A        native   \n",
              "6      17400           23  04/18/2017  early.season    A        native   \n",
              "7      17400           23  04/18/2017  early.season    A        native   \n",
              "8      17400           23  04/18/2017  early.season    A        native   \n",
              "9      17400           23  04/18/2017  early.season    A        native   \n",
              "\n",
              "    sampling plant_species  time     bee_species sex specialized_on  \\\n",
              "5  pan traps          None   935  Apis mellifera   f            NaN   \n",
              "6  pan traps          None   935  Apis mellifera   f            NaN   \n",
              "7  pan traps          None   935  Apis mellifera   f            NaN   \n",
              "8  pan traps          None   935  Apis mellifera   f            NaN   \n",
              "9  pan traps          None   935  Apis mellifera   f            NaN   \n",
              "\n",
              "   parasitic nesting status  nonnative_bee  \n",
              "5        0.0    hive    NaN            1.0  \n",
              "6        0.0    hive    NaN            1.0  \n",
              "7        0.0    hive    NaN            1.0  \n",
              "8        0.0    hive    NaN            1.0  \n",
              "9        0.0    hive    NaN            1.0  "
            ],
            "text/html": [
              "\n",
              "  <div id=\"df-5dd6df3d-15e5-4cdf-bbf3-06b2cd3c0dd9\">\n",
              "    <div class=\"colab-df-container\">\n",
              "      <div>\n",
              "<style scoped>\n",
              "    .dataframe tbody tr th:only-of-type {\n",
              "        vertical-align: middle;\n",
              "    }\n",
              "\n",
              "    .dataframe tbody tr th {\n",
              "        vertical-align: top;\n",
              "    }\n",
              "\n",
              "    .dataframe thead th {\n",
              "        text-align: right;\n",
              "    }\n",
              "</style>\n",
              "<table border=\"1\" class=\"dataframe\">\n",
              "  <thead>\n",
              "    <tr style=\"text-align: right;\">\n",
              "      <th></th>\n",
              "      <th>sample_id</th>\n",
              "      <th>species_num</th>\n",
              "      <th>date</th>\n",
              "      <th>season</th>\n",
              "      <th>site</th>\n",
              "      <th>native_or_non</th>\n",
              "      <th>sampling</th>\n",
              "      <th>plant_species</th>\n",
              "      <th>time</th>\n",
              "      <th>bee_species</th>\n",
              "      <th>sex</th>\n",
              "      <th>specialized_on</th>\n",
              "      <th>parasitic</th>\n",
              "      <th>nesting</th>\n",
              "      <th>status</th>\n",
              "      <th>nonnative_bee</th>\n",
              "    </tr>\n",
              "  </thead>\n",
              "  <tbody>\n",
              "    <tr>\n",
              "      <th>5</th>\n",
              "      <td>17400</td>\n",
              "      <td>23</td>\n",
              "      <td>04/18/2017</td>\n",
              "      <td>early.season</td>\n",
              "      <td>A</td>\n",
              "      <td>native</td>\n",
              "      <td>pan traps</td>\n",
              "      <td>None</td>\n",
              "      <td>935</td>\n",
              "      <td>Apis mellifera</td>\n",
              "      <td>f</td>\n",
              "      <td>NaN</td>\n",
              "      <td>0.0</td>\n",
              "      <td>hive</td>\n",
              "      <td>NaN</td>\n",
              "      <td>1.0</td>\n",
              "    </tr>\n",
              "    <tr>\n",
              "      <th>6</th>\n",
              "      <td>17400</td>\n",
              "      <td>23</td>\n",
              "      <td>04/18/2017</td>\n",
              "      <td>early.season</td>\n",
              "      <td>A</td>\n",
              "      <td>native</td>\n",
              "      <td>pan traps</td>\n",
              "      <td>None</td>\n",
              "      <td>935</td>\n",
              "      <td>Apis mellifera</td>\n",
              "      <td>f</td>\n",
              "      <td>NaN</td>\n",
              "      <td>0.0</td>\n",
              "      <td>hive</td>\n",
              "      <td>NaN</td>\n",
              "      <td>1.0</td>\n",
              "    </tr>\n",
              "    <tr>\n",
              "      <th>7</th>\n",
              "      <td>17400</td>\n",
              "      <td>23</td>\n",
              "      <td>04/18/2017</td>\n",
              "      <td>early.season</td>\n",
              "      <td>A</td>\n",
              "      <td>native</td>\n",
              "      <td>pan traps</td>\n",
              "      <td>None</td>\n",
              "      <td>935</td>\n",
              "      <td>Apis mellifera</td>\n",
              "      <td>f</td>\n",
              "      <td>NaN</td>\n",
              "      <td>0.0</td>\n",
              "      <td>hive</td>\n",
              "      <td>NaN</td>\n",
              "      <td>1.0</td>\n",
              "    </tr>\n",
              "    <tr>\n",
              "      <th>8</th>\n",
              "      <td>17400</td>\n",
              "      <td>23</td>\n",
              "      <td>04/18/2017</td>\n",
              "      <td>early.season</td>\n",
              "      <td>A</td>\n",
              "      <td>native</td>\n",
              "      <td>pan traps</td>\n",
              "      <td>None</td>\n",
              "      <td>935</td>\n",
              "      <td>Apis mellifera</td>\n",
              "      <td>f</td>\n",
              "      <td>NaN</td>\n",
              "      <td>0.0</td>\n",
              "      <td>hive</td>\n",
              "      <td>NaN</td>\n",
              "      <td>1.0</td>\n",
              "    </tr>\n",
              "    <tr>\n",
              "      <th>9</th>\n",
              "      <td>17400</td>\n",
              "      <td>23</td>\n",
              "      <td>04/18/2017</td>\n",
              "      <td>early.season</td>\n",
              "      <td>A</td>\n",
              "      <td>native</td>\n",
              "      <td>pan traps</td>\n",
              "      <td>None</td>\n",
              "      <td>935</td>\n",
              "      <td>Apis mellifera</td>\n",
              "      <td>f</td>\n",
              "      <td>NaN</td>\n",
              "      <td>0.0</td>\n",
              "      <td>hive</td>\n",
              "      <td>NaN</td>\n",
              "      <td>1.0</td>\n",
              "    </tr>\n",
              "  </tbody>\n",
              "</table>\n",
              "</div>\n",
              "      <button class=\"colab-df-convert\" onclick=\"convertToInteractive('df-5dd6df3d-15e5-4cdf-bbf3-06b2cd3c0dd9')\"\n",
              "              title=\"Convert this dataframe to an interactive table.\"\n",
              "              style=\"display:none;\">\n",
              "        \n",
              "  <svg xmlns=\"http://www.w3.org/2000/svg\" height=\"24px\"viewBox=\"0 0 24 24\"\n",
              "       width=\"24px\">\n",
              "    <path d=\"M0 0h24v24H0V0z\" fill=\"none\"/>\n",
              "    <path d=\"M18.56 5.44l.94 2.06.94-2.06 2.06-.94-2.06-.94-.94-2.06-.94 2.06-2.06.94zm-11 1L8.5 8.5l.94-2.06 2.06-.94-2.06-.94L8.5 2.5l-.94 2.06-2.06.94zm10 10l.94 2.06.94-2.06 2.06-.94-2.06-.94-.94-2.06-.94 2.06-2.06.94z\"/><path d=\"M17.41 7.96l-1.37-1.37c-.4-.4-.92-.59-1.43-.59-.52 0-1.04.2-1.43.59L10.3 9.45l-7.72 7.72c-.78.78-.78 2.05 0 2.83L4 21.41c.39.39.9.59 1.41.59.51 0 1.02-.2 1.41-.59l7.78-7.78 2.81-2.81c.8-.78.8-2.07 0-2.86zM5.41 20L4 18.59l7.72-7.72 1.47 1.35L5.41 20z\"/>\n",
              "  </svg>\n",
              "      </button>\n",
              "      \n",
              "  <style>\n",
              "    .colab-df-container {\n",
              "      display:flex;\n",
              "      flex-wrap:wrap;\n",
              "      gap: 12px;\n",
              "    }\n",
              "\n",
              "    .colab-df-convert {\n",
              "      background-color: #E8F0FE;\n",
              "      border: none;\n",
              "      border-radius: 50%;\n",
              "      cursor: pointer;\n",
              "      display: none;\n",
              "      fill: #1967D2;\n",
              "      height: 32px;\n",
              "      padding: 0 0 0 0;\n",
              "      width: 32px;\n",
              "    }\n",
              "\n",
              "    .colab-df-convert:hover {\n",
              "      background-color: #E2EBFA;\n",
              "      box-shadow: 0px 1px 2px rgba(60, 64, 67, 0.3), 0px 1px 3px 1px rgba(60, 64, 67, 0.15);\n",
              "      fill: #174EA6;\n",
              "    }\n",
              "\n",
              "    [theme=dark] .colab-df-convert {\n",
              "      background-color: #3B4455;\n",
              "      fill: #D2E3FC;\n",
              "    }\n",
              "\n",
              "    [theme=dark] .colab-df-convert:hover {\n",
              "      background-color: #434B5C;\n",
              "      box-shadow: 0px 1px 3px 1px rgba(0, 0, 0, 0.15);\n",
              "      filter: drop-shadow(0px 1px 2px rgba(0, 0, 0, 0.3));\n",
              "      fill: #FFFFFF;\n",
              "    }\n",
              "  </style>\n",
              "\n",
              "      <script>\n",
              "        const buttonEl =\n",
              "          document.querySelector('#df-5dd6df3d-15e5-4cdf-bbf3-06b2cd3c0dd9 button.colab-df-convert');\n",
              "        buttonEl.style.display =\n",
              "          google.colab.kernel.accessAllowed ? 'block' : 'none';\n",
              "\n",
              "        async function convertToInteractive(key) {\n",
              "          const element = document.querySelector('#df-5dd6df3d-15e5-4cdf-bbf3-06b2cd3c0dd9');\n",
              "          const dataTable =\n",
              "            await google.colab.kernel.invokeFunction('convertToInteractive',\n",
              "                                                     [key], {});\n",
              "          if (!dataTable) return;\n",
              "\n",
              "          const docLinkHtml = 'Like what you see? Visit the ' +\n",
              "            '<a target=\"_blank\" href=https://colab.research.google.com/notebooks/data_table.ipynb>data table notebook</a>'\n",
              "            + ' to learn more about interactive tables.';\n",
              "          element.innerHTML = '';\n",
              "          dataTable['output_type'] = 'display_data';\n",
              "          await google.colab.output.renderOutput(dataTable, element);\n",
              "          const docLink = document.createElement('div');\n",
              "          docLink.innerHTML = docLinkHtml;\n",
              "          element.appendChild(docLink);\n",
              "        }\n",
              "      </script>\n",
              "    </div>\n",
              "  </div>\n",
              "  "
            ]
          },
          "metadata": {},
          "execution_count": 12
        }
      ]
    },
    {
      "cell_type": "code",
      "source": [
        "# group by plant species\n",
        "native_bee.groupby('plant_species').size().sort_values(ascending=False)"
      ],
      "metadata": {
        "colab": {
          "base_uri": "https://localhost:8080/"
        },
        "id": "0SztsTK2d2Rd",
        "outputId": "69cd5c6d-9a4b-4862-aa19-a909f401dff3"
      },
      "execution_count": 14,
      "outputs": [
        {
          "output_type": "execute_result",
          "data": {
            "text/plain": [
              "plant_species\n",
              "None                    33\n",
              "Daucus carota            1\n",
              "Trifolium incarnatum     1\n",
              "dtype: int64"
            ]
          },
          "metadata": {},
          "execution_count": 14
        }
      ]
    },
    {
      "cell_type": "markdown",
      "source": [
        "Recommended plants: Daucus carota and Trifolium incarnatum."
      ],
      "metadata": {
        "id": "8C3jY1myj-XW"
      }
    }
  ]
}